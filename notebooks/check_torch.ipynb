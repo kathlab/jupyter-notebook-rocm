{
 "cells": [
  {
   "cell_type": "code",
   "execution_count": null,
   "metadata": {},
   "outputs": [],
   "source": [
    "import torch\n",
    "\n",
    "# even if check is calling \"cuda\", the function works for CUDA and ROCm devices\n",
    "if torch.cuda.is_available():\n",
    "    print(\"TORCH CUDA device name: \" + torch.cuda.get_device_name(0))\n",
    "    print(\"TORCH CUDA device count: \" + str(torch.cuda.device_count()))\n",
    "else:\n",
    "    print(\"TORCH device name: \" + \"[CPU]\")"
   ]
  }
 ],
 "metadata": {
  "kernelspec": {
   "display_name": "Python 3 (ipykernel)",
   "language": "python",
   "name": "python3"
  },
  "language_info": {
   "name": "python",
   "version": "3.10.7 (main, Nov 24 2022, 19:45:47) [GCC 12.2.0]"
  },
  "vscode": {
   "interpreter": {
    "hash": "916dbcbb3f70747c44a77c7bcd40155683ae19c65e1c03b4aa3499c5328201f1"
   }
  }
 },
 "nbformat": 4,
 "nbformat_minor": 2
}
